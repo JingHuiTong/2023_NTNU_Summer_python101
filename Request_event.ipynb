{
 "cells": [
  {
   "cell_type": "code",
   "execution_count": 74,
   "id": "73a35d6d-4fa8-4317-b32f-8e89ea5cc0e8",
   "metadata": {},
   "outputs": [],
   "source": [
    "import obspy\n",
    "from obspy import UTCDateTime\n",
    "import pandas as pd\n",
    "from obspy.clients.fdsn.client import Client\n",
    "client = Client(\"IRIS\")"
   ]
  },
  {
   "cell_type": "code",
   "execution_count": 76,
   "id": "bcda8e2b-7a6f-421d-a2d7-3df8ac8147f6",
   "metadata": {},
   "outputs": [],
   "source": [
    "t1 = UTCDateTime(\"2020-01-01T00:00:00\")\n",
    "t2 = UTCDateTime(\"2023-06-17T00:00:00\")\n",
    "\n",
    "cat = client.get_events(starttime=t1, endtime=t2, minmagnitude=4,\n",
    "                        minlatitude = 50,\n",
    "                        maxlatitude = 65,\n",
    "                        minlongitude= -180,\n",
    "                        maxlongitude= -150)"
   ]
  },
  {
   "cell_type": "code",
   "execution_count": 81,
   "id": "ddb6c234-d128-4eba-ab3b-05f5f7ec0f5d",
   "metadata": {},
   "outputs": [],
   "source": [
    "newdf = {'time':[],\n",
    "        'lat':[],\n",
    "        'lon':[],\n",
    "        'dep':[],\n",
    "        'mag':[]}\n",
    "for i in range(len(cat)):\n",
    "    lat = cat[i].origins[0].latitude\n",
    "    lon = cat[i].origins[0].longitude\n",
    "    dep = cat[i].origins[0].depth/1000\n",
    "    mag = cat[i].magnitudes[0].mag\n",
    "    eventtime = cat[i].origins[0].time\n",
    "    newdf['time'].append(eventtime)\n",
    "    newdf['lat'].append(lat)\n",
    "    newdf['lon'].append(lon)\n",
    "    newdf['dep'].append(dep)\n",
    "    newdf['mag'].append(mag)"
   ]
  },
  {
   "cell_type": "code",
   "execution_count": 82,
   "id": "6535083a-5d34-41c4-992b-36a7cc660c8e",
   "metadata": {},
   "outputs": [],
   "source": [
    "newdf = pd.DataFrame(newdf)\n",
    "newdf.to_csv('Alaska_events.csv',index=False )"
   ]
  },
  {
   "cell_type": "code",
   "execution_count": 80,
   "id": "d224929f-3189-46c9-9e41-1b74c612ac8d",
   "metadata": {},
   "outputs": [
    {
     "data": {
      "text/plain": [
       "2023-06-16T07:23:29.956000Z"
      ]
     },
     "execution_count": 80,
     "metadata": {},
     "output_type": "execute_result"
    }
   ],
   "source": [
    "cat[0].origins[0].time"
   ]
  },
  {
   "cell_type": "code",
   "execution_count": null,
   "id": "ad0e1f0c-03db-4b0a-8282-b6fddc6d0d15",
   "metadata": {},
   "outputs": [],
   "source": []
  }
 ],
 "metadata": {
  "kernelspec": {
   "display_name": "Python 3 (ipykernel)",
   "language": "python",
   "name": "python3"
  },
  "language_info": {
   "codemirror_mode": {
    "name": "ipython",
    "version": 3
   },
   "file_extension": ".py",
   "mimetype": "text/x-python",
   "name": "python",
   "nbconvert_exporter": "python",
   "pygments_lexer": "ipython3",
   "version": "3.10.6"
  }
 },
 "nbformat": 4,
 "nbformat_minor": 5
}
