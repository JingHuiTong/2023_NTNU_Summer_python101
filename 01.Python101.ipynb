{
 "cells": [
  {
   "cell_type": "markdown",
   "id": "7d7dfeae",
   "metadata": {},
   "source": [
    "# Python 101- glob, pandas, if \n",
    "\n",
    "##### 2023 Summer Student Program, Dep. of Earth Sciences, NTNU\n",
    "###### Jing-Hui Tong 2023/06/16"
   ]
  },
  {
   "cell_type": "code",
   "execution_count": 5,
   "id": "729bdaec",
   "metadata": {},
   "outputs": [],
   "source": [
    "import glob\n",
    "import pandas as pd\n",
    "import numpy as np"
   ]
  },
  {
   "cell_type": "code",
   "execution_count": 6,
   "id": "69a0134c",
   "metadata": {},
   "outputs": [],
   "source": [
    "datapath = '/Volumes/OBS_Data'\n",
    "network = 'ET'"
   ]
  },
  {
   "cell_type": "markdown",
   "id": "da644fd5",
   "metadata": {},
   "source": [
    "### glob 抓取路徑下檔案名稱\n",
    "看看這些指令有什麼差別？"
   ]
  },
  {
   "cell_type": "code",
   "execution_count": 7,
   "id": "0de9d12b",
   "metadata": {},
   "outputs": [
    {
     "data": {
      "text/plain": [
       "['/Volumes/OBS_Data/ET/ET05',\n",
       " '/Volumes/OBS_Data/ET/ET03',\n",
       " '/Volumes/OBS_Data/ET/ET07',\n",
       " '/Volumes/OBS_Data/ET/ET_stations_info.csv',\n",
       " '/Volumes/OBS_Data/ET/00_ET_PZs',\n",
       " '/Volumes/OBS_Data/ET/00_ET_Data_quality',\n",
       " '/Volumes/OBS_Data/ET/ET11',\n",
       " '/Volumes/OBS_Data/ET/ET12',\n",
       " '/Volumes/OBS_Data/ET/ET14',\n",
       " '/Volumes/OBS_Data/ET/ET15',\n",
       " '/Volumes/OBS_Data/ET/ET16',\n",
       " '/Volumes/OBS_Data/ET/ET10',\n",
       " '/Volumes/OBS_Data/ET/ET00',\n",
       " '/Volumes/OBS_Data/ET/00_ET_Orietation_angle']"
      ]
     },
     "execution_count": 7,
     "metadata": {},
     "output_type": "execute_result"
    }
   ],
   "source": [
    "glob.glob(f'{datapath}/{network}/*')"
   ]
  },
  {
   "cell_type": "code",
   "execution_count": 8,
   "id": "82f9a23d",
   "metadata": {},
   "outputs": [
    {
     "data": {
      "text/plain": [
       "['/Volumes/OBS_Data/ET/ET05',\n",
       " '/Volumes/OBS_Data/ET/ET03',\n",
       " '/Volumes/OBS_Data/ET/ET07',\n",
       " '/Volumes/OBS_Data/ET/ET_stations_info.csv',\n",
       " '/Volumes/OBS_Data/ET/ET11',\n",
       " '/Volumes/OBS_Data/ET/ET12',\n",
       " '/Volumes/OBS_Data/ET/ET14',\n",
       " '/Volumes/OBS_Data/ET/ET15',\n",
       " '/Volumes/OBS_Data/ET/ET16',\n",
       " '/Volumes/OBS_Data/ET/ET10',\n",
       " '/Volumes/OBS_Data/ET/ET00']"
      ]
     },
     "execution_count": 8,
     "metadata": {},
     "output_type": "execute_result"
    }
   ],
   "source": [
    "glob.glob(f'{datapath}/{network}/ET*')"
   ]
  },
  {
   "cell_type": "code",
   "execution_count": 9,
   "id": "5d5e4f81",
   "metadata": {},
   "outputs": [
    {
     "data": {
      "text/plain": [
       "['/Volumes/OBS_Data/ET/ET05',\n",
       " '/Volumes/OBS_Data/ET/ET03',\n",
       " '/Volumes/OBS_Data/ET/ET07',\n",
       " '/Volumes/OBS_Data/ET/ET11',\n",
       " '/Volumes/OBS_Data/ET/ET12',\n",
       " '/Volumes/OBS_Data/ET/ET14',\n",
       " '/Volumes/OBS_Data/ET/ET15',\n",
       " '/Volumes/OBS_Data/ET/ET16',\n",
       " '/Volumes/OBS_Data/ET/ET10',\n",
       " '/Volumes/OBS_Data/ET/ET00']"
      ]
     },
     "execution_count": 9,
     "metadata": {},
     "output_type": "execute_result"
    }
   ],
   "source": [
    "glob.glob(f'{datapath}/{network}/ET??')"
   ]
  },
  {
   "cell_type": "code",
   "execution_count": 10,
   "id": "c04930cd",
   "metadata": {},
   "outputs": [
    {
     "data": {
      "text/plain": [
       "['/Volumes/OBS_Data/ET/ET00',\n",
       " '/Volumes/OBS_Data/ET/ET03',\n",
       " '/Volumes/OBS_Data/ET/ET05',\n",
       " '/Volumes/OBS_Data/ET/ET07',\n",
       " '/Volumes/OBS_Data/ET/ET10',\n",
       " '/Volumes/OBS_Data/ET/ET11',\n",
       " '/Volumes/OBS_Data/ET/ET12',\n",
       " '/Volumes/OBS_Data/ET/ET14',\n",
       " '/Volumes/OBS_Data/ET/ET15',\n",
       " '/Volumes/OBS_Data/ET/ET16']"
      ]
     },
     "execution_count": 10,
     "metadata": {},
     "output_type": "execute_result"
    }
   ],
   "source": [
    "sorted(glob.glob(f'{datapath}/{network}/ET??'))"
   ]
  },
  {
   "cell_type": "code",
   "execution_count": 13,
   "id": "e8c7f9c7",
   "metadata": {},
   "outputs": [
    {
     "data": {
      "text/plain": [
       "['/Volumes/OBS_Data/ET/ET_stations_info.csv']"
      ]
     },
     "execution_count": 13,
     "metadata": {},
     "output_type": "execute_result"
    }
   ],
   "source": [
    "glob.glob(f'{datapath}/{network}/*csv')"
   ]
  },
  {
   "cell_type": "code",
   "execution_count": 14,
   "id": "d37662e5",
   "metadata": {},
   "outputs": [
    {
     "data": {
      "text/plain": [
       "'/Volumes/OBS_Data/ET/ET_stations_info.csv'"
      ]
     },
     "execution_count": 14,
     "metadata": {},
     "output_type": "execute_result"
    }
   ],
   "source": [
    "glob.glob(f'{datapath}/{network}/*csv')[0]"
   ]
  },
  {
   "cell_type": "code",
   "execution_count": 12,
   "id": "2a301c0a",
   "metadata": {},
   "outputs": [
    {
     "data": {
      "text/plain": [
       "['/Volumes/OBS_Data/ET/00_ET_PZs/SAC_PZs_ET_ET03_HH1__2020.330.00.00.00.0000_2021.279.23.59.59.99999',\n",
       " '/Volumes/OBS_Data/ET/00_ET_PZs/SAC_PZs_ET_ET03_HH2__2020.330.00.00.00.0000_2021.279.23.59.59.99999',\n",
       " '/Volumes/OBS_Data/ET/00_ET_PZs/SAC_PZs_ET_ET03_HHZ__2020.330.00.00.00.0000_2021.279.23.59.59.99999',\n",
       " '/Volumes/OBS_Data/ET/00_ET_PZs/SAC_PZs_ET_ET05_HH1__2020.330.00.00.00.0000_2021.279.23.59.59.99999',\n",
       " '/Volumes/OBS_Data/ET/00_ET_PZs/SAC_PZs_ET_ET05_HH2__2020.330.00.00.00.0000_2021.279.23.59.59.99999',\n",
       " '/Volumes/OBS_Data/ET/00_ET_PZs/SAC_PZs_ET_ET05_HHZ__2020.330.00.00.00.0000_2021.279.23.59.59.99999',\n",
       " '/Volumes/OBS_Data/ET/00_ET_PZs/SAC_PZs_ET_ET07_HH1__2020.330.00.00.00.0000_2021.279.23.59.59.99999',\n",
       " '/Volumes/OBS_Data/ET/00_ET_PZs/SAC_PZs_ET_ET07_HH2__2020.330.00.00.00.0000_2021.279.23.59.59.99999',\n",
       " '/Volumes/OBS_Data/ET/00_ET_PZs/SAC_PZs_ET_ET07_HHZ__2020.330.00.00.00.0000_2021.279.23.59.59.99999',\n",
       " '/Volumes/OBS_Data/ET/00_ET_PZs/SAC_PZs_Y1506_HHP',\n",
       " '/Volumes/OBS_Data/ET/00_ET_PZs/SAC_PZs_Y1506_HHP_TORILOGGER',\n",
       " '/Volumes/OBS_Data/ET/00_ET_PZs/SAC_PZs_ET_ET11_HH1__2021.278.00.00.00.0000_2022.232.23.59.59.99999',\n",
       " '/Volumes/OBS_Data/ET/00_ET_PZs/SAC_PZs_ET_ET11_HH2__2021.278.00.00.00.0000_2022.232.23.59.59.99999',\n",
       " '/Volumes/OBS_Data/ET/00_ET_PZs/SAC_PZs_ET_ET11_HHZ__2021.278.00.00.00.0000_2022.232.23.59.59.99999',\n",
       " '/Volumes/OBS_Data/ET/00_ET_PZs/SAC_PZs_ET_ET12_HH1__2021.278.00.00.00.0000_2022.232.23.59.59.99999',\n",
       " '/Volumes/OBS_Data/ET/00_ET_PZs/SAC_PZs_ET_ET12_HH2__2021.278.00.00.00.0000_2022.232.23.59.59.99999',\n",
       " '/Volumes/OBS_Data/ET/00_ET_PZs/SAC_PZs_ET_ET12_HHZ__2021.278.00.00.00.0000_2022.232.23.59.59.99999',\n",
       " '/Volumes/OBS_Data/ET/00_ET_PZs/SAC_PZs_ET_ET14_HH1__2021.278.00.00.00.0000_2022.232.23.59.59.99999',\n",
       " '/Volumes/OBS_Data/ET/00_ET_PZs/SAC_PZs_ET_ET14_HH2__2021.278.00.00.00.0000_2022.232.23.59.59.99999',\n",
       " '/Volumes/OBS_Data/ET/00_ET_PZs/SAC_PZs_ET_ET14_HHZ__2021.278.00.00.00.0000_2022.232.23.59.59.99999',\n",
       " '/Volumes/OBS_Data/ET/00_ET_PZs/SAC_PZs_ET_ET15_HH1__2021.275.00.00.00.0000_2022.231.23.59.59.99999',\n",
       " '/Volumes/OBS_Data/ET/00_ET_PZs/SAC_PZs_ET_ET15_HH2__2021.275.00.00.00.0000_2022.231.23.59.59.99999',\n",
       " '/Volumes/OBS_Data/ET/00_ET_PZs/SAC_PZs_ET_ET15_HHZ__2021.275.00.00.00.0000_2022.231.23.59.59.99999',\n",
       " '/Volumes/OBS_Data/ET/00_ET_PZs/SAC_PZs_ET_ET16_HH1__2021.275.00.00.00.0000_2022.231.23.59.59.99999',\n",
       " '/Volumes/OBS_Data/ET/00_ET_PZs/SAC_PZs_ET_ET16_HH2__2021.275.00.00.00.0000_2022.231.23.59.59.99999',\n",
       " '/Volumes/OBS_Data/ET/00_ET_PZs/SAC_PZs_ET_ET16_HHZ__2021.275.00.00.00.0000_2022.231.23.59.59.99999',\n",
       " '/Volumes/OBS_Data/ET/00_ET_PZs/SAC_PZs_ET_ET10_HDH__2021.279.00.00.00.0000_2022.231.23.59.59.99999',\n",
       " '/Volumes/OBS_Data/ET/00_ET_PZs/SAC_PZs_ET_ET10_HH1__2021.279.00.00.00.0000_2022.231.23.59.59.99999',\n",
       " '/Volumes/OBS_Data/ET/00_ET_PZs/SAC_PZs_ET_ET10_HH2__2021.279.00.00.00.0000_2022.231.23.59.59.99999',\n",
       " '/Volumes/OBS_Data/ET/00_ET_PZs/SAC_PZs_ET_ET10_HHZ__2021.279.00.00.00.0000_2022.231.23.59.59.99999',\n",
       " '/Volumes/OBS_Data/ET/00_ET_PZs/SAC_PZs_ET_ET11_HDH__2021.278.00.00.00.0000_2022.232.23.59.59.99999',\n",
       " '/Volumes/OBS_Data/ET/00_ET_PZs/SAC_PZs_ET_ET12_HDH__2021.278.00.00.00.0000_2022.232.23.59.59.99999',\n",
       " '/Volumes/OBS_Data/ET/00_ET_PZs/SAC_PZs_ET_ET14_HDH__2021.278.00.00.00.0000_2022.232.23.59.59.99999',\n",
       " '/Volumes/OBS_Data/ET/00_ET_PZs/SAC_PZs_ET_ET15_HDH__2021.275.00.00.00.0000_2022.231.23.59.59.99999',\n",
       " '/Volumes/OBS_Data/ET/00_ET_PZs/SAC_PZs_ET_ET16_HDH__2021.275.00.00.00.0000_2022.231.23.59.59.99999',\n",
       " '/Volumes/OBS_Data/ET/00_ET_PZs/SAC_PZs_ET_ET00_HDH__2020.332.00.00.00.0000_2021.275.23.59.59.99999',\n",
       " '/Volumes/OBS_Data/ET/00_ET_PZs/SAC_PZs_ET_ET00_HH1__2020.332.00.00.00.0000_2021.275.23.59.59.99999',\n",
       " '/Volumes/OBS_Data/ET/00_ET_PZs/SAC_PZs_ET_ET00_HH2__2020.332.00.00.00.0000_2021.275.23.59.59.99999',\n",
       " '/Volumes/OBS_Data/ET/00_ET_PZs/SAC_PZs_ET_ET00_HHZ__2020.332.00.00.00.0000_2021.275.23.59.59.99999',\n",
       " '/Volumes/OBS_Data/ET/00_ET_PZs/SAC_PZs_ET_ET03_HDH__2020.330.00.00.00.0000_2021.279.23.59.59.99999',\n",
       " '/Volumes/OBS_Data/ET/00_ET_PZs/SAC_PZs_ET_ET05_HDH__2020.330.00.00.00.0000_2021.279.23.59.59.99999',\n",
       " '/Volumes/OBS_Data/ET/00_ET_PZs/SAC_PZs_ET_ET07_HDH__2020.330.00.00.00.0000_2021.279.23.59.59.99999',\n",
       " '/Volumes/OBS_Data/ET/00_ET_Data_quality/01_ET_PSD',\n",
       " '/Volumes/OBS_Data/ET/00_ET_Data_quality/02_ET_Recordplot',\n",
       " '/Volumes/OBS_Data/ET/00_ET_Orietation_angle/ET_ori_ang_Patty_20220322.csv',\n",
       " '/Volumes/OBS_Data/ET/00_ET_Orietation_angle/Orientation_ET_bySu_README.txt',\n",
       " '/Volumes/OBS_Data/ET/00_ET_Orietation_angle/Orientation_ET_bySu.csv',\n",
       " '/Volumes/OBS_Data/ET/00_ET_Orietation_angle/OrientationResults_ET_v2.pdf',\n",
       " '/Volumes/OBS_Data/ET/00_ET_Orietation_angle/OrientationResults_ET_v2.key',\n",
       " '/Volumes/OBS_Data/ET/00_ET_Orietation_angle/Orientation_ET_20230612.csv']"
      ]
     },
     "execution_count": 12,
     "metadata": {},
     "output_type": "execute_result"
    }
   ],
   "source": [
    "glob.glob(f'{datapath}/{network}/00*/*')"
   ]
  },
  {
   "cell_type": "markdown",
   "id": "687e4525",
   "metadata": {},
   "source": [
    "## 看NAS檔案"
   ]
  },
  {
   "cell_type": "code",
   "execution_count": 15,
   "id": "9e35ffcb",
   "metadata": {},
   "outputs": [],
   "source": [
    "network = 'ET'"
   ]
  },
  {
   "cell_type": "markdown",
   "id": "a5ed9074",
   "metadata": {},
   "source": [
    "### <font color=purple>Short partices: </font>\n",
    "    please print the first 5 Z component path of each station\n",
    "    The format likes network/Data/year/day/*.mseed"
   ]
  },
  {
   "cell_type": "code",
   "execution_count": 24,
   "id": "1dec894c",
   "metadata": {},
   "outputs": [
    {
     "name": "stdout",
     "output_type": "stream",
     "text": [
      "/Volumes/OBS_Data/ET/ET00\n",
      "/Volumes/OBS_Data/ET/ET03\n",
      "/Volumes/OBS_Data/ET/ET05\n",
      "/Volumes/OBS_Data/ET/ET07\n",
      "/Volumes/OBS_Data/ET/ET10\n",
      "/Volumes/OBS_Data/ET/ET11\n",
      "/Volumes/OBS_Data/ET/ET12\n",
      "/Volumes/OBS_Data/ET/ET14\n",
      "/Volumes/OBS_Data/ET/ET15\n",
      "/Volumes/OBS_Data/ET/ET16\n"
     ]
    }
   ],
   "source": [
    "for STApath in sorted(glob.glob(f'{datapath}/{network}/ET??')):\n",
    "    print(STApath)\n",
    "    STA = STApath.rsplit('/')[-1]\n",
    "    # print(STA)\n",
    "    # for yyyypath in sorted(glob.glob(f'{STApath}/Data/????')):\n",
    "        # print(yyyypath)\n",
    "        # ...\n",
    "        \n",
    "    \n",
    "    "
   ]
  },
  {
   "cell_type": "markdown",
   "id": "a944069f",
   "metadata": {},
   "source": [
    "### if condition \n",
    "https://medium.com/ccclub/ccclub-python-for-beginners-tutorial-ae8becaf165e"
   ]
  },
  {
   "cell_type": "code",
   "execution_count": 25,
   "id": "52834117",
   "metadata": {},
   "outputs": [
    {
     "data": {
      "text/plain": [
       "'/Volumes/OBS_Data'"
      ]
     },
     "execution_count": 25,
     "metadata": {},
     "output_type": "execute_result"
    }
   ],
   "source": [
    "datapath"
   ]
  },
  {
   "cell_type": "markdown",
   "id": "8f14be21",
   "metadata": {},
   "source": [
    "### <font color=purple>Short partices:  </font>\n",
    "    please print the path of network='YM', year=2007 using if condition"
   ]
  },
  {
   "cell_type": "code",
   "execution_count": 27,
   "id": "661a7f27",
   "metadata": {
    "tags": []
   },
   "outputs": [
    {
     "name": "stdout",
     "output_type": "stream",
     "text": [
      "/Volumes/OBS_Data/BO\n",
      "/Volumes/OBS_Data/DS\n",
      "/Volumes/OBS_Data/ET\n",
      "/Volumes/OBS_Data/OT\n",
      "/Volumes/OBS_Data/PS\n",
      "/Volumes/OBS_Data/SL\n",
      "/Volumes/OBS_Data/TW\n",
      "/Volumes/OBS_Data/XB\n",
      "/Volumes/OBS_Data/YM\n",
      "/Volumes/OBS_Data/ZA\n"
     ]
    }
   ],
   "source": [
    "for netpath in sorted(glob.glob(f'{datapath}/??')): #/*/Data/*/365')):\n",
    "    print(netpath)\n",
    "#     network = \n",
    "    \n",
    "#     STA = STApath.rsplit('/')[-1]\n",
    "\n",
    "#     if network == 'YM':\n",
    "    \n",
    "            \n",
    "#      elif  ( your condition):\n",
    "\n"
   ]
  },
  {
   "cell_type": "markdown",
   "id": "7e15df82",
   "metadata": {},
   "source": [
    "## Pandas: a module can read .csv/.txt ... "
   ]
  },
  {
   "cell_type": "code",
   "execution_count": 28,
   "id": "c548bc3c",
   "metadata": {},
   "outputs": [],
   "source": [
    "csvfile = '/Volumes/OBS_Data/ET/ET_stations_info.csv'"
   ]
  },
  {
   "cell_type": "code",
   "execution_count": 29,
   "id": "e54ec167",
   "metadata": {},
   "outputs": [],
   "source": [
    "df = pd.read_csv(csvfile)"
   ]
  },
  {
   "cell_type": "code",
   "execution_count": 30,
   "id": "4aeba423",
   "metadata": {},
   "outputs": [
    {
     "data": {
      "text/html": [
       "<div>\n",
       "<style scoped>\n",
       "    .dataframe tbody tr th:only-of-type {\n",
       "        vertical-align: middle;\n",
       "    }\n",
       "\n",
       "    .dataframe tbody tr th {\n",
       "        vertical-align: top;\n",
       "    }\n",
       "\n",
       "    .dataframe thead th {\n",
       "        text-align: right;\n",
       "    }\n",
       "</style>\n",
       "<table border=\"1\" class=\"dataframe\">\n",
       "  <thead>\n",
       "    <tr style=\"text-align: right;\">\n",
       "      <th></th>\n",
       "      <th>station</th>\n",
       "      <th>network</th>\n",
       "      <th>latitude</th>\n",
       "      <th>longitude</th>\n",
       "      <th>altitude</th>\n",
       "      <th>altitude_unit</th>\n",
       "      <th>description</th>\n",
       "      <th>sensor</th>\n",
       "      <th>recorder</th>\n",
       "      <th>deployment_time</th>\n",
       "      <th>...</th>\n",
       "      <th>Unnamed: 12</th>\n",
       "      <th>Unnamed: 13</th>\n",
       "      <th>Unnamed: 14</th>\n",
       "      <th>Unnamed: 15</th>\n",
       "      <th>Unnamed: 16</th>\n",
       "      <th>Unnamed: 17</th>\n",
       "      <th>Unnamed: 18</th>\n",
       "      <th>Unnamed: 19</th>\n",
       "      <th>Unnamed: 20</th>\n",
       "      <th>Unnamed: 21</th>\n",
       "    </tr>\n",
       "  </thead>\n",
       "  <tbody>\n",
       "    <tr>\n",
       "      <th>0</th>\n",
       "      <td>ET00</td>\n",
       "      <td>ET</td>\n",
       "      <td>22.17110</td>\n",
       "      <td>121.12020</td>\n",
       "      <td>-1238</td>\n",
       "      <td>m</td>\n",
       "      <td>offshoreTaitung</td>\n",
       "      <td>trillium compact 120s</td>\n",
       "      <td>TORI</td>\n",
       "      <td>20201127-20211002</td>\n",
       "      <td>...</td>\n",
       "      <td>NaN</td>\n",
       "      <td>NaN</td>\n",
       "      <td>NaN</td>\n",
       "      <td>NaN</td>\n",
       "      <td>NaN</td>\n",
       "      <td>NaN</td>\n",
       "      <td>NaN</td>\n",
       "      <td>NaN</td>\n",
       "      <td>NaN</td>\n",
       "      <td>NaN</td>\n",
       "    </tr>\n",
       "    <tr>\n",
       "      <th>1</th>\n",
       "      <td>ET02</td>\n",
       "      <td>ET</td>\n",
       "      <td>22.66920</td>\n",
       "      <td>121.29850</td>\n",
       "      <td>-1290</td>\n",
       "      <td>m</td>\n",
       "      <td>offshoreTaitung</td>\n",
       "      <td>trillium compact 120s</td>\n",
       "      <td>YB-IES</td>\n",
       "      <td>20201126-20211006</td>\n",
       "      <td>...</td>\n",
       "      <td>NaN</td>\n",
       "      <td>NaN</td>\n",
       "      <td>NaN</td>\n",
       "      <td>NaN</td>\n",
       "      <td>NaN</td>\n",
       "      <td>NaN</td>\n",
       "      <td>NaN</td>\n",
       "      <td>NaN</td>\n",
       "      <td>NaN</td>\n",
       "      <td>NaN</td>\n",
       "    </tr>\n",
       "    <tr>\n",
       "      <th>2</th>\n",
       "      <td>ET03</td>\n",
       "      <td>ET</td>\n",
       "      <td>22.67220</td>\n",
       "      <td>121.27850</td>\n",
       "      <td>-1207</td>\n",
       "      <td>m</td>\n",
       "      <td>offshoreTaitung</td>\n",
       "      <td>trillium compact 120s</td>\n",
       "      <td>TORI</td>\n",
       "      <td>20201126-20211006</td>\n",
       "      <td>...</td>\n",
       "      <td>NaN</td>\n",
       "      <td>NaN</td>\n",
       "      <td>NaN</td>\n",
       "      <td>NaN</td>\n",
       "      <td>NaN</td>\n",
       "      <td>NaN</td>\n",
       "      <td>NaN</td>\n",
       "      <td>NaN</td>\n",
       "      <td>NaN</td>\n",
       "      <td>NaN</td>\n",
       "    </tr>\n",
       "    <tr>\n",
       "      <th>3</th>\n",
       "      <td>ET04</td>\n",
       "      <td>ET</td>\n",
       "      <td>22.69172</td>\n",
       "      <td>121.29575</td>\n",
       "      <td>-1188</td>\n",
       "      <td>m</td>\n",
       "      <td>offshoreTaitung</td>\n",
       "      <td>trillium compact 120s</td>\n",
       "      <td>TORI</td>\n",
       "      <td>20201126-?</td>\n",
       "      <td>...</td>\n",
       "      <td>NaN</td>\n",
       "      <td>NaN</td>\n",
       "      <td>NaN</td>\n",
       "      <td>NaN</td>\n",
       "      <td>NaN</td>\n",
       "      <td>NaN</td>\n",
       "      <td>NaN</td>\n",
       "      <td>NaN</td>\n",
       "      <td>NaN</td>\n",
       "      <td>NaN</td>\n",
       "    </tr>\n",
       "    <tr>\n",
       "      <th>4</th>\n",
       "      <td>ET05</td>\n",
       "      <td>ET</td>\n",
       "      <td>22.78400</td>\n",
       "      <td>121.31920</td>\n",
       "      <td>-1084</td>\n",
       "      <td>m</td>\n",
       "      <td>offshoreTaitung</td>\n",
       "      <td>trillium compact 120s</td>\n",
       "      <td>YB-IES</td>\n",
       "      <td>20201126-20211005</td>\n",
       "      <td>...</td>\n",
       "      <td>NaN</td>\n",
       "      <td>NaN</td>\n",
       "      <td>NaN</td>\n",
       "      <td>NaN</td>\n",
       "      <td>NaN</td>\n",
       "      <td>NaN</td>\n",
       "      <td>NaN</td>\n",
       "      <td>NaN</td>\n",
       "      <td>NaN</td>\n",
       "      <td>NaN</td>\n",
       "    </tr>\n",
       "    <tr>\n",
       "      <th>5</th>\n",
       "      <td>ET07</td>\n",
       "      <td>ET</td>\n",
       "      <td>22.53050</td>\n",
       "      <td>122.27810</td>\n",
       "      <td>-4744</td>\n",
       "      <td>m</td>\n",
       "      <td>offshoreTaitung</td>\n",
       "      <td>trillium compact 120s</td>\n",
       "      <td>TORI</td>\n",
       "      <td>20201125-20211003</td>\n",
       "      <td>...</td>\n",
       "      <td>NaN</td>\n",
       "      <td>NaN</td>\n",
       "      <td>NaN</td>\n",
       "      <td>NaN</td>\n",
       "      <td>NaN</td>\n",
       "      <td>NaN</td>\n",
       "      <td>NaN</td>\n",
       "      <td>NaN</td>\n",
       "      <td>NaN</td>\n",
       "      <td>NaN</td>\n",
       "    </tr>\n",
       "    <tr>\n",
       "      <th>6</th>\n",
       "      <td>ET08</td>\n",
       "      <td>ET</td>\n",
       "      <td>21.92760</td>\n",
       "      <td>122.17720</td>\n",
       "      <td>-4373</td>\n",
       "      <td>m</td>\n",
       "      <td>offshoreTaitung</td>\n",
       "      <td>trillium compact 120s</td>\n",
       "      <td>TORI</td>\n",
       "      <td>20201125-?</td>\n",
       "      <td>...</td>\n",
       "      <td>NaN</td>\n",
       "      <td>NaN</td>\n",
       "      <td>NaN</td>\n",
       "      <td>NaN</td>\n",
       "      <td>NaN</td>\n",
       "      <td>NaN</td>\n",
       "      <td>NaN</td>\n",
       "      <td>NaN</td>\n",
       "      <td>NaN</td>\n",
       "      <td>NaN</td>\n",
       "    </tr>\n",
       "    <tr>\n",
       "      <th>7</th>\n",
       "      <td>ET09</td>\n",
       "      <td>ET</td>\n",
       "      <td>22.66496</td>\n",
       "      <td>121.27558</td>\n",
       "      <td>-1268</td>\n",
       "      <td>m</td>\n",
       "      <td>offshoreTaitung</td>\n",
       "      <td>trillium compact 120s</td>\n",
       "      <td>YB-IES</td>\n",
       "      <td>20211007-?</td>\n",
       "      <td>...</td>\n",
       "      <td>NaN</td>\n",
       "      <td>NaN</td>\n",
       "      <td>NaN</td>\n",
       "      <td>NaN</td>\n",
       "      <td>NaN</td>\n",
       "      <td>NaN</td>\n",
       "      <td>NaN</td>\n",
       "      <td>NaN</td>\n",
       "      <td>NaN</td>\n",
       "      <td>NaN</td>\n",
       "    </tr>\n",
       "    <tr>\n",
       "      <th>8</th>\n",
       "      <td>ET10</td>\n",
       "      <td>ET</td>\n",
       "      <td>22.67320</td>\n",
       "      <td>121.36990</td>\n",
       "      <td>-1335</td>\n",
       "      <td>m</td>\n",
       "      <td>offshoreTaitung</td>\n",
       "      <td>trillium compact 120s</td>\n",
       "      <td>TORI</td>\n",
       "      <td>20211006-20220819</td>\n",
       "      <td>...</td>\n",
       "      <td>NaN</td>\n",
       "      <td>NaN</td>\n",
       "      <td>NaN</td>\n",
       "      <td>NaN</td>\n",
       "      <td>NaN</td>\n",
       "      <td>NaN</td>\n",
       "      <td>NaN</td>\n",
       "      <td>NaN</td>\n",
       "      <td>NaN</td>\n",
       "      <td>NaN</td>\n",
       "    </tr>\n",
       "    <tr>\n",
       "      <th>9</th>\n",
       "      <td>ET11</td>\n",
       "      <td>ET</td>\n",
       "      <td>22.63893</td>\n",
       "      <td>121.61290</td>\n",
       "      <td>-3792</td>\n",
       "      <td>m</td>\n",
       "      <td>offshoreTaitung</td>\n",
       "      <td>trillium compact 120s</td>\n",
       "      <td>YB-IES</td>\n",
       "      <td>20211005-20220820</td>\n",
       "      <td>...</td>\n",
       "      <td>NaN</td>\n",
       "      <td>NaN</td>\n",
       "      <td>NaN</td>\n",
       "      <td>NaN</td>\n",
       "      <td>NaN</td>\n",
       "      <td>NaN</td>\n",
       "      <td>NaN</td>\n",
       "      <td>NaN</td>\n",
       "      <td>NaN</td>\n",
       "      <td>NaN</td>\n",
       "    </tr>\n",
       "    <tr>\n",
       "      <th>10</th>\n",
       "      <td>ET12</td>\n",
       "      <td>ET</td>\n",
       "      <td>22.65690</td>\n",
       "      <td>121.71177</td>\n",
       "      <td>-4015</td>\n",
       "      <td>m</td>\n",
       "      <td>offshoreTaitung</td>\n",
       "      <td>trillium compact 120s</td>\n",
       "      <td>YB-IES</td>\n",
       "      <td>20211004-20220820</td>\n",
       "      <td>...</td>\n",
       "      <td>NaN</td>\n",
       "      <td>NaN</td>\n",
       "      <td>NaN</td>\n",
       "      <td>NaN</td>\n",
       "      <td>NaN</td>\n",
       "      <td>NaN</td>\n",
       "      <td>NaN</td>\n",
       "      <td>NaN</td>\n",
       "      <td>NaN</td>\n",
       "      <td>NaN</td>\n",
       "    </tr>\n",
       "    <tr>\n",
       "      <th>11</th>\n",
       "      <td>ET13</td>\n",
       "      <td>ET</td>\n",
       "      <td>22.64025</td>\n",
       "      <td>121.82639</td>\n",
       "      <td>-4342</td>\n",
       "      <td>m</td>\n",
       "      <td>offshoreTaitung</td>\n",
       "      <td>trillium compact 120s</td>\n",
       "      <td>YB-IES</td>\n",
       "      <td>20211004-?</td>\n",
       "      <td>...</td>\n",
       "      <td>NaN</td>\n",
       "      <td>NaN</td>\n",
       "      <td>NaN</td>\n",
       "      <td>NaN</td>\n",
       "      <td>NaN</td>\n",
       "      <td>NaN</td>\n",
       "      <td>NaN</td>\n",
       "      <td>NaN</td>\n",
       "      <td>NaN</td>\n",
       "      <td>NaN</td>\n",
       "    </tr>\n",
       "    <tr>\n",
       "      <th>12</th>\n",
       "      <td>ET14</td>\n",
       "      <td>ET</td>\n",
       "      <td>22.63791</td>\n",
       "      <td>121.94062</td>\n",
       "      <td>-4557</td>\n",
       "      <td>m</td>\n",
       "      <td>offshoreTaitung</td>\n",
       "      <td>trillium compact 120s</td>\n",
       "      <td>YB-IES</td>\n",
       "      <td>20211004-20220821</td>\n",
       "      <td>...</td>\n",
       "      <td>NaN</td>\n",
       "      <td>NaN</td>\n",
       "      <td>NaN</td>\n",
       "      <td>NaN</td>\n",
       "      <td>NaN</td>\n",
       "      <td>NaN</td>\n",
       "      <td>NaN</td>\n",
       "      <td>NaN</td>\n",
       "      <td>NaN</td>\n",
       "      <td>NaN</td>\n",
       "    </tr>\n",
       "    <tr>\n",
       "      <th>13</th>\n",
       "      <td>ET15</td>\n",
       "      <td>ET</td>\n",
       "      <td>22.38495</td>\n",
       "      <td>121.08577</td>\n",
       "      <td>-1105</td>\n",
       "      <td>m</td>\n",
       "      <td>offshoreTaitung</td>\n",
       "      <td>trillium compact 120s</td>\n",
       "      <td>YB-IES</td>\n",
       "      <td>20211002-20220819</td>\n",
       "      <td>...</td>\n",
       "      <td>NaN</td>\n",
       "      <td>NaN</td>\n",
       "      <td>NaN</td>\n",
       "      <td>NaN</td>\n",
       "      <td>NaN</td>\n",
       "      <td>NaN</td>\n",
       "      <td>NaN</td>\n",
       "      <td>NaN</td>\n",
       "      <td>NaN</td>\n",
       "      <td>NaN</td>\n",
       "    </tr>\n",
       "    <tr>\n",
       "      <th>14</th>\n",
       "      <td>ET16</td>\n",
       "      <td>ET</td>\n",
       "      <td>22.16931</td>\n",
       "      <td>121.11652</td>\n",
       "      <td>-1239</td>\n",
       "      <td>m</td>\n",
       "      <td>offshoreTaitung</td>\n",
       "      <td>trillium compact 120s</td>\n",
       "      <td>YB-IES</td>\n",
       "      <td>20211002-20220819</td>\n",
       "      <td>...</td>\n",
       "      <td>NaN</td>\n",
       "      <td>NaN</td>\n",
       "      <td>NaN</td>\n",
       "      <td>NaN</td>\n",
       "      <td>NaN</td>\n",
       "      <td>NaN</td>\n",
       "      <td>NaN</td>\n",
       "      <td>NaN</td>\n",
       "      <td>NaN</td>\n",
       "      <td>NaN</td>\n",
       "    </tr>\n",
       "  </tbody>\n",
       "</table>\n",
       "<p>15 rows × 22 columns</p>\n",
       "</div>"
      ],
      "text/plain": [
       "   station network  latitude  longitude  altitude altitude_unit  \\\n",
       "0     ET00      ET  22.17110  121.12020     -1238             m   \n",
       "1     ET02      ET  22.66920  121.29850     -1290             m   \n",
       "2     ET03      ET  22.67220  121.27850     -1207             m   \n",
       "3     ET04      ET  22.69172  121.29575     -1188             m   \n",
       "4     ET05      ET  22.78400  121.31920     -1084             m   \n",
       "5     ET07      ET  22.53050  122.27810     -4744             m   \n",
       "6     ET08      ET  21.92760  122.17720     -4373             m   \n",
       "7     ET09      ET  22.66496  121.27558     -1268             m   \n",
       "8     ET10      ET  22.67320  121.36990     -1335             m   \n",
       "9     ET11      ET  22.63893  121.61290     -3792             m   \n",
       "10    ET12      ET  22.65690  121.71177     -4015             m   \n",
       "11    ET13      ET  22.64025  121.82639     -4342             m   \n",
       "12    ET14      ET  22.63791  121.94062     -4557             m   \n",
       "13    ET15      ET  22.38495  121.08577     -1105             m   \n",
       "14    ET16      ET  22.16931  121.11652     -1239             m   \n",
       "\n",
       "        description                 sensor recorder    deployment_time  ...  \\\n",
       "0   offshoreTaitung  trillium compact 120s     TORI  20201127-20211002  ...   \n",
       "1   offshoreTaitung  trillium compact 120s   YB-IES  20201126-20211006  ...   \n",
       "2   offshoreTaitung  trillium compact 120s     TORI  20201126-20211006  ...   \n",
       "3   offshoreTaitung  trillium compact 120s     TORI         20201126-?  ...   \n",
       "4   offshoreTaitung  trillium compact 120s   YB-IES  20201126-20211005  ...   \n",
       "5   offshoreTaitung  trillium compact 120s     TORI  20201125-20211003  ...   \n",
       "6   offshoreTaitung  trillium compact 120s     TORI         20201125-?  ...   \n",
       "7   offshoreTaitung  trillium compact 120s   YB-IES         20211007-?  ...   \n",
       "8   offshoreTaitung  trillium compact 120s     TORI  20211006-20220819  ...   \n",
       "9   offshoreTaitung  trillium compact 120s   YB-IES  20211005-20220820  ...   \n",
       "10  offshoreTaitung  trillium compact 120s   YB-IES  20211004-20220820  ...   \n",
       "11  offshoreTaitung  trillium compact 120s   YB-IES         20211004-?  ...   \n",
       "12  offshoreTaitung  trillium compact 120s   YB-IES  20211004-20220821  ...   \n",
       "13  offshoreTaitung  trillium compact 120s   YB-IES  20211002-20220819  ...   \n",
       "14  offshoreTaitung  trillium compact 120s   YB-IES  20211002-20220819  ...   \n",
       "\n",
       "   Unnamed: 12  Unnamed: 13  Unnamed: 14  Unnamed: 15  Unnamed: 16  \\\n",
       "0          NaN          NaN          NaN          NaN          NaN   \n",
       "1          NaN          NaN          NaN          NaN          NaN   \n",
       "2          NaN          NaN          NaN          NaN          NaN   \n",
       "3          NaN          NaN          NaN          NaN          NaN   \n",
       "4          NaN          NaN          NaN          NaN          NaN   \n",
       "5          NaN          NaN          NaN          NaN          NaN   \n",
       "6          NaN          NaN          NaN          NaN          NaN   \n",
       "7          NaN          NaN          NaN          NaN          NaN   \n",
       "8          NaN          NaN          NaN          NaN          NaN   \n",
       "9          NaN          NaN          NaN          NaN          NaN   \n",
       "10         NaN          NaN          NaN          NaN          NaN   \n",
       "11         NaN          NaN          NaN          NaN          NaN   \n",
       "12         NaN          NaN          NaN          NaN          NaN   \n",
       "13         NaN          NaN          NaN          NaN          NaN   \n",
       "14         NaN          NaN          NaN          NaN          NaN   \n",
       "\n",
       "    Unnamed: 17  Unnamed: 18  Unnamed: 19  Unnamed: 20  Unnamed: 21  \n",
       "0           NaN          NaN          NaN          NaN          NaN  \n",
       "1           NaN          NaN          NaN          NaN          NaN  \n",
       "2           NaN          NaN          NaN          NaN          NaN  \n",
       "3           NaN          NaN          NaN          NaN          NaN  \n",
       "4           NaN          NaN          NaN          NaN          NaN  \n",
       "5           NaN          NaN          NaN          NaN          NaN  \n",
       "6           NaN          NaN          NaN          NaN          NaN  \n",
       "7           NaN          NaN          NaN          NaN          NaN  \n",
       "8           NaN          NaN          NaN          NaN          NaN  \n",
       "9           NaN          NaN          NaN          NaN          NaN  \n",
       "10          NaN          NaN          NaN          NaN          NaN  \n",
       "11          NaN          NaN          NaN          NaN          NaN  \n",
       "12          NaN          NaN          NaN          NaN          NaN  \n",
       "13          NaN          NaN          NaN          NaN          NaN  \n",
       "14          NaN          NaN          NaN          NaN          NaN  \n",
       "\n",
       "[15 rows x 22 columns]"
      ]
     },
     "execution_count": 30,
     "metadata": {},
     "output_type": "execute_result"
    }
   ],
   "source": [
    "df"
   ]
  },
  {
   "cell_type": "markdown",
   "id": "4b386d70",
   "metadata": {},
   "source": [
    "### DataFrame: 用來處理雙維度的資料，也就是具有列(row)與欄(column)的資料集"
   ]
  },
  {
   "cell_type": "code",
   "execution_count": 31,
   "id": "0e9d77b8",
   "metadata": {},
   "outputs": [
    {
     "data": {
      "text/plain": [
       "pandas.core.frame.DataFrame"
      ]
     },
     "execution_count": 31,
     "metadata": {},
     "output_type": "execute_result"
    }
   ],
   "source": [
    "type(df)"
   ]
  },
  {
   "cell_type": "code",
   "execution_count": 32,
   "id": "062c2b3a",
   "metadata": {},
   "outputs": [
    {
     "data": {
      "text/plain": [
       "Index(['station', 'network', 'latitude', 'longitude', 'altitude',\n",
       "       'altitude_unit', 'description', 'sensor', 'recorder', 'deployment_time',\n",
       "       'note', 'data_quality', 'Unnamed: 12', 'Unnamed: 13', 'Unnamed: 14',\n",
       "       'Unnamed: 15', 'Unnamed: 16', 'Unnamed: 17', 'Unnamed: 18',\n",
       "       'Unnamed: 19', 'Unnamed: 20', 'Unnamed: 21'],\n",
       "      dtype='object')"
      ]
     },
     "execution_count": 32,
     "metadata": {},
     "output_type": "execute_result"
    }
   ],
   "source": [
    "# 查看所有的colunm名字\n",
    "df.columns"
   ]
  },
  {
   "cell_type": "code",
   "execution_count": 34,
   "id": "20c32f4d",
   "metadata": {},
   "outputs": [
    {
     "data": {
      "text/plain": [
       "Index(['station', 'network', 'latitude', 'longitude', 'altitude',\n",
       "       'altitude_unit', 'description', 'sensor', 'recorder', 'deployment_time',\n",
       "       'note', 'data_quality', 'Unnamed: 12', 'Unnamed: 13', 'Unnamed: 14',\n",
       "       'Unnamed: 15', 'Unnamed: 16', 'Unnamed: 17', 'Unnamed: 18',\n",
       "       'Unnamed: 19', 'Unnamed: 20', 'Unnamed: 21'],\n",
       "      dtype='object')"
      ]
     },
     "execution_count": 34,
     "metadata": {},
     "output_type": "execute_result"
    }
   ],
   "source": [
    "df.keys()"
   ]
  },
  {
   "cell_type": "markdown",
   "id": "509e3a9b",
   "metadata": {},
   "source": [
    "### 讀取每一欄的內容"
   ]
  },
  {
   "cell_type": "code",
   "execution_count": 44,
   "id": "fe36a6cd",
   "metadata": {},
   "outputs": [
    {
     "data": {
      "text/plain": [
       "0     ET00\n",
       "1     ET02\n",
       "2     ET03\n",
       "3     ET04\n",
       "4     ET05\n",
       "5     ET07\n",
       "6     ET08\n",
       "7     ET09\n",
       "8     ET10\n",
       "9     ET11\n",
       "10    ET12\n",
       "11    ET13\n",
       "12    ET14\n",
       "13    ET15\n",
       "14    ET16\n",
       "Name: station, dtype: object"
      ]
     },
     "execution_count": 44,
     "metadata": {},
     "output_type": "execute_result"
    }
   ],
   "source": [
    "df['station']"
   ]
  },
  {
   "cell_type": "code",
   "execution_count": 36,
   "id": "483ed7a1",
   "metadata": {},
   "outputs": [
    {
     "data": {
      "text/plain": [
       "3    ET04\n",
       "4    ET05\n",
       "Name: station, dtype: object"
      ]
     },
     "execution_count": 36,
     "metadata": {},
     "output_type": "execute_result"
    }
   ],
   "source": [
    "df['station'][3:5]"
   ]
  },
  {
   "cell_type": "code",
   "execution_count": 37,
   "id": "4e90f225",
   "metadata": {},
   "outputs": [
    {
     "name": "stdout",
     "output_type": "stream",
     "text": [
      "ET00\n",
      "ET07\n"
     ]
    }
   ],
   "source": [
    "print(df['station'].iloc[0])\n",
    "print(df['station'].iloc[5])"
   ]
  },
  {
   "cell_type": "code",
   "execution_count": 39,
   "id": "a0ca24e4",
   "metadata": {},
   "outputs": [
    {
     "name": "stdout",
     "output_type": "stream",
     "text": [
      "ET00\n",
      "ET07\n"
     ]
    }
   ],
   "source": [
    "print(df['station'].values[0])\n",
    "print(df['station'].values[5])"
   ]
  },
  {
   "cell_type": "markdown",
   "id": "9ab508e2",
   "metadata": {},
   "source": [
    "### 設定條件得到某一個測站的所有內容"
   ]
  },
  {
   "cell_type": "code",
   "execution_count": 40,
   "id": "0358c758",
   "metadata": {},
   "outputs": [
    {
     "data": {
      "text/html": [
       "<div>\n",
       "<style scoped>\n",
       "    .dataframe tbody tr th:only-of-type {\n",
       "        vertical-align: middle;\n",
       "    }\n",
       "\n",
       "    .dataframe tbody tr th {\n",
       "        vertical-align: top;\n",
       "    }\n",
       "\n",
       "    .dataframe thead th {\n",
       "        text-align: right;\n",
       "    }\n",
       "</style>\n",
       "<table border=\"1\" class=\"dataframe\">\n",
       "  <thead>\n",
       "    <tr style=\"text-align: right;\">\n",
       "      <th></th>\n",
       "      <th>station</th>\n",
       "      <th>network</th>\n",
       "      <th>latitude</th>\n",
       "      <th>longitude</th>\n",
       "      <th>altitude</th>\n",
       "      <th>altitude_unit</th>\n",
       "      <th>description</th>\n",
       "      <th>sensor</th>\n",
       "      <th>recorder</th>\n",
       "      <th>deployment_time</th>\n",
       "      <th>...</th>\n",
       "      <th>Unnamed: 12</th>\n",
       "      <th>Unnamed: 13</th>\n",
       "      <th>Unnamed: 14</th>\n",
       "      <th>Unnamed: 15</th>\n",
       "      <th>Unnamed: 16</th>\n",
       "      <th>Unnamed: 17</th>\n",
       "      <th>Unnamed: 18</th>\n",
       "      <th>Unnamed: 19</th>\n",
       "      <th>Unnamed: 20</th>\n",
       "      <th>Unnamed: 21</th>\n",
       "    </tr>\n",
       "  </thead>\n",
       "  <tbody>\n",
       "    <tr>\n",
       "      <th>0</th>\n",
       "      <td>ET00</td>\n",
       "      <td>ET</td>\n",
       "      <td>22.1711</td>\n",
       "      <td>121.1202</td>\n",
       "      <td>-1238</td>\n",
       "      <td>m</td>\n",
       "      <td>offshoreTaitung</td>\n",
       "      <td>trillium compact 120s</td>\n",
       "      <td>TORI</td>\n",
       "      <td>20201127-20211002</td>\n",
       "      <td>...</td>\n",
       "      <td>NaN</td>\n",
       "      <td>NaN</td>\n",
       "      <td>NaN</td>\n",
       "      <td>NaN</td>\n",
       "      <td>NaN</td>\n",
       "      <td>NaN</td>\n",
       "      <td>NaN</td>\n",
       "      <td>NaN</td>\n",
       "      <td>NaN</td>\n",
       "      <td>NaN</td>\n",
       "    </tr>\n",
       "  </tbody>\n",
       "</table>\n",
       "<p>1 rows × 22 columns</p>\n",
       "</div>"
      ],
      "text/plain": [
       "  station network  latitude  longitude  altitude altitude_unit  \\\n",
       "0    ET00      ET   22.1711   121.1202     -1238             m   \n",
       "\n",
       "       description                 sensor recorder    deployment_time  ...  \\\n",
       "0  offshoreTaitung  trillium compact 120s     TORI  20201127-20211002  ...   \n",
       "\n",
       "  Unnamed: 12  Unnamed: 13  Unnamed: 14  Unnamed: 15  Unnamed: 16  \\\n",
       "0         NaN          NaN          NaN          NaN          NaN   \n",
       "\n",
       "   Unnamed: 17  Unnamed: 18  Unnamed: 19  Unnamed: 20  Unnamed: 21  \n",
       "0          NaN          NaN          NaN          NaN          NaN  \n",
       "\n",
       "[1 rows x 22 columns]"
      ]
     },
     "execution_count": 40,
     "metadata": {},
     "output_type": "execute_result"
    }
   ],
   "source": [
    "df[df['station']=='ET00']"
   ]
  },
  {
   "cell_type": "code",
   "execution_count": 41,
   "id": "6068ba9e",
   "metadata": {},
   "outputs": [
    {
     "data": {
      "text/html": [
       "<div>\n",
       "<style scoped>\n",
       "    .dataframe tbody tr th:only-of-type {\n",
       "        vertical-align: middle;\n",
       "    }\n",
       "\n",
       "    .dataframe tbody tr th {\n",
       "        vertical-align: top;\n",
       "    }\n",
       "\n",
       "    .dataframe thead th {\n",
       "        text-align: right;\n",
       "    }\n",
       "</style>\n",
       "<table border=\"1\" class=\"dataframe\">\n",
       "  <thead>\n",
       "    <tr style=\"text-align: right;\">\n",
       "      <th></th>\n",
       "      <th>station</th>\n",
       "      <th>network</th>\n",
       "      <th>latitude</th>\n",
       "      <th>longitude</th>\n",
       "      <th>altitude</th>\n",
       "      <th>altitude_unit</th>\n",
       "      <th>description</th>\n",
       "      <th>sensor</th>\n",
       "      <th>recorder</th>\n",
       "      <th>deployment_time</th>\n",
       "      <th>...</th>\n",
       "      <th>Unnamed: 12</th>\n",
       "      <th>Unnamed: 13</th>\n",
       "      <th>Unnamed: 14</th>\n",
       "      <th>Unnamed: 15</th>\n",
       "      <th>Unnamed: 16</th>\n",
       "      <th>Unnamed: 17</th>\n",
       "      <th>Unnamed: 18</th>\n",
       "      <th>Unnamed: 19</th>\n",
       "      <th>Unnamed: 20</th>\n",
       "      <th>Unnamed: 21</th>\n",
       "    </tr>\n",
       "  </thead>\n",
       "  <tbody>\n",
       "    <tr>\n",
       "      <th>5</th>\n",
       "      <td>ET07</td>\n",
       "      <td>ET</td>\n",
       "      <td>22.53050</td>\n",
       "      <td>122.27810</td>\n",
       "      <td>-4744</td>\n",
       "      <td>m</td>\n",
       "      <td>offshoreTaitung</td>\n",
       "      <td>trillium compact 120s</td>\n",
       "      <td>TORI</td>\n",
       "      <td>20201125-20211003</td>\n",
       "      <td>...</td>\n",
       "      <td>NaN</td>\n",
       "      <td>NaN</td>\n",
       "      <td>NaN</td>\n",
       "      <td>NaN</td>\n",
       "      <td>NaN</td>\n",
       "      <td>NaN</td>\n",
       "      <td>NaN</td>\n",
       "      <td>NaN</td>\n",
       "      <td>NaN</td>\n",
       "      <td>NaN</td>\n",
       "    </tr>\n",
       "    <tr>\n",
       "      <th>6</th>\n",
       "      <td>ET08</td>\n",
       "      <td>ET</td>\n",
       "      <td>21.92760</td>\n",
       "      <td>122.17720</td>\n",
       "      <td>-4373</td>\n",
       "      <td>m</td>\n",
       "      <td>offshoreTaitung</td>\n",
       "      <td>trillium compact 120s</td>\n",
       "      <td>TORI</td>\n",
       "      <td>20201125-?</td>\n",
       "      <td>...</td>\n",
       "      <td>NaN</td>\n",
       "      <td>NaN</td>\n",
       "      <td>NaN</td>\n",
       "      <td>NaN</td>\n",
       "      <td>NaN</td>\n",
       "      <td>NaN</td>\n",
       "      <td>NaN</td>\n",
       "      <td>NaN</td>\n",
       "      <td>NaN</td>\n",
       "      <td>NaN</td>\n",
       "    </tr>\n",
       "    <tr>\n",
       "      <th>10</th>\n",
       "      <td>ET12</td>\n",
       "      <td>ET</td>\n",
       "      <td>22.65690</td>\n",
       "      <td>121.71177</td>\n",
       "      <td>-4015</td>\n",
       "      <td>m</td>\n",
       "      <td>offshoreTaitung</td>\n",
       "      <td>trillium compact 120s</td>\n",
       "      <td>YB-IES</td>\n",
       "      <td>20211004-20220820</td>\n",
       "      <td>...</td>\n",
       "      <td>NaN</td>\n",
       "      <td>NaN</td>\n",
       "      <td>NaN</td>\n",
       "      <td>NaN</td>\n",
       "      <td>NaN</td>\n",
       "      <td>NaN</td>\n",
       "      <td>NaN</td>\n",
       "      <td>NaN</td>\n",
       "      <td>NaN</td>\n",
       "      <td>NaN</td>\n",
       "    </tr>\n",
       "    <tr>\n",
       "      <th>11</th>\n",
       "      <td>ET13</td>\n",
       "      <td>ET</td>\n",
       "      <td>22.64025</td>\n",
       "      <td>121.82639</td>\n",
       "      <td>-4342</td>\n",
       "      <td>m</td>\n",
       "      <td>offshoreTaitung</td>\n",
       "      <td>trillium compact 120s</td>\n",
       "      <td>YB-IES</td>\n",
       "      <td>20211004-?</td>\n",
       "      <td>...</td>\n",
       "      <td>NaN</td>\n",
       "      <td>NaN</td>\n",
       "      <td>NaN</td>\n",
       "      <td>NaN</td>\n",
       "      <td>NaN</td>\n",
       "      <td>NaN</td>\n",
       "      <td>NaN</td>\n",
       "      <td>NaN</td>\n",
       "      <td>NaN</td>\n",
       "      <td>NaN</td>\n",
       "    </tr>\n",
       "    <tr>\n",
       "      <th>12</th>\n",
       "      <td>ET14</td>\n",
       "      <td>ET</td>\n",
       "      <td>22.63791</td>\n",
       "      <td>121.94062</td>\n",
       "      <td>-4557</td>\n",
       "      <td>m</td>\n",
       "      <td>offshoreTaitung</td>\n",
       "      <td>trillium compact 120s</td>\n",
       "      <td>YB-IES</td>\n",
       "      <td>20211004-20220821</td>\n",
       "      <td>...</td>\n",
       "      <td>NaN</td>\n",
       "      <td>NaN</td>\n",
       "      <td>NaN</td>\n",
       "      <td>NaN</td>\n",
       "      <td>NaN</td>\n",
       "      <td>NaN</td>\n",
       "      <td>NaN</td>\n",
       "      <td>NaN</td>\n",
       "      <td>NaN</td>\n",
       "      <td>NaN</td>\n",
       "    </tr>\n",
       "  </tbody>\n",
       "</table>\n",
       "<p>5 rows × 22 columns</p>\n",
       "</div>"
      ],
      "text/plain": [
       "   station network  latitude  longitude  altitude altitude_unit  \\\n",
       "5     ET07      ET  22.53050  122.27810     -4744             m   \n",
       "6     ET08      ET  21.92760  122.17720     -4373             m   \n",
       "10    ET12      ET  22.65690  121.71177     -4015             m   \n",
       "11    ET13      ET  22.64025  121.82639     -4342             m   \n",
       "12    ET14      ET  22.63791  121.94062     -4557             m   \n",
       "\n",
       "        description                 sensor recorder    deployment_time  ...  \\\n",
       "5   offshoreTaitung  trillium compact 120s     TORI  20201125-20211003  ...   \n",
       "6   offshoreTaitung  trillium compact 120s     TORI         20201125-?  ...   \n",
       "10  offshoreTaitung  trillium compact 120s   YB-IES  20211004-20220820  ...   \n",
       "11  offshoreTaitung  trillium compact 120s   YB-IES         20211004-?  ...   \n",
       "12  offshoreTaitung  trillium compact 120s   YB-IES  20211004-20220821  ...   \n",
       "\n",
       "   Unnamed: 12  Unnamed: 13  Unnamed: 14  Unnamed: 15  Unnamed: 16  \\\n",
       "5          NaN          NaN          NaN          NaN          NaN   \n",
       "6          NaN          NaN          NaN          NaN          NaN   \n",
       "10         NaN          NaN          NaN          NaN          NaN   \n",
       "11         NaN          NaN          NaN          NaN          NaN   \n",
       "12         NaN          NaN          NaN          NaN          NaN   \n",
       "\n",
       "    Unnamed: 17  Unnamed: 18  Unnamed: 19  Unnamed: 20  Unnamed: 21  \n",
       "5           NaN          NaN          NaN          NaN          NaN  \n",
       "6           NaN          NaN          NaN          NaN          NaN  \n",
       "10          NaN          NaN          NaN          NaN          NaN  \n",
       "11          NaN          NaN          NaN          NaN          NaN  \n",
       "12          NaN          NaN          NaN          NaN          NaN  \n",
       "\n",
       "[5 rows x 22 columns]"
      ]
     },
     "execution_count": 41,
     "metadata": {},
     "output_type": "execute_result"
    }
   ],
   "source": [
    "df[df['altitude']<= -4000]"
   ]
  },
  {
   "cell_type": "markdown",
   "id": "3d96de19",
   "metadata": {},
   "source": [
    "###  <font color=purple>Short partices:\n",
    "    The HHZ data of all available stations on 2022/007 should be printed \n",
    "</font>"
   ]
  },
  {
   "cell_type": "code",
   "execution_count": null,
   "id": "32ff219e",
   "metadata": {},
   "outputs": [],
   "source": [
    "for i in range(len(df)):\n",
    "    NET = df['network'].....\n",
    "    STA = df['station'].....\n",
    "\n",
    "### please set the variables and print  lon, lat, alt \n",
    "\n",
    "    print(f'{NET}.{STA}: {lon}, {lat}, {alt}m')\n",
    "    \n",
    "#     for stapath in sorted(glob.glob(f'{datapath}/......')):\n",
    "#         print(stapath)\n",
    "        \n",
    "\n"
   ]
  },
  {
   "cell_type": "code",
   "execution_count": null,
   "id": "811f6ee2",
   "metadata": {},
   "outputs": [],
   "source": []
  }
 ],
 "metadata": {
  "kernelspec": {
   "display_name": "Python 3 (ipykernel)",
   "language": "python",
   "name": "python3"
  },
  "language_info": {
   "codemirror_mode": {
    "name": "ipython",
    "version": 3
   },
   "file_extension": ".py",
   "mimetype": "text/x-python",
   "name": "python",
   "nbconvert_exporter": "python",
   "pygments_lexer": "ipython3",
   "version": "3.11.3"
  }
 },
 "nbformat": 4,
 "nbformat_minor": 5
}
