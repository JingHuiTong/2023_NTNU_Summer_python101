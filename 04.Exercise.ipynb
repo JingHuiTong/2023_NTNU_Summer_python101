{
 "cells": [
  {
   "cell_type": "markdown",
   "id": "1f77d904",
   "metadata": {},
   "source": [
    "# Exercise\n",
    "##### 2023 Summer Student Program, Dep. of Earth Sciences, NTNU\n",
    "###### Jing-Hui Tong 2023/06/16\n"
   ]
  },
  {
   "cell_type": "markdown",
   "id": "acd654f4",
   "metadata": {},
   "source": [
    "file=/Volumes/OBS_Data/ET/ET_stations_info.csv\n",
    "#### ------------ pandas ------------\n",
    "1. Reading the file and tell me the shallowest/deepest OBS information (network, ET??, lon, lat, elevation)\n",
    "\n",
    "    **hint: you may use for loop or if condition**  \n",
    "\n",
    "#### ------------ pygmt ------------   \n",
    "2. set region to plot **ET network**, please use suitable projection  \n",
    "3. Using `makecpt` and output cptfile  \n",
    "4. Using `grdcut` and output grdfile  \n",
    "5. Using `grdimage` (input 5 & 6 file)  \n",
    "6. Using `inset` to place within a larger figure\n",
    "7. Plot the station location and save your figure\n",
    "\n",
    "   **hint: Not only use these functions, you can be creative and add more function !**"
   ]
  },
  {
   "cell_type": "code",
   "execution_count": null,
   "id": "831a6540",
   "metadata": {},
   "outputs": [],
   "source": []
  }
 ],
 "metadata": {
  "kernelspec": {
   "display_name": "Python 3 (ipykernel)",
   "language": "python",
   "name": "python3"
  },
  "language_info": {
   "codemirror_mode": {
    "name": "ipython",
    "version": 3
   },
   "file_extension": ".py",
   "mimetype": "text/x-python",
   "name": "python",
   "nbconvert_exporter": "python",
   "pygments_lexer": "ipython3",
   "version": "3.11.3"
  }
 },
 "nbformat": 4,
 "nbformat_minor": 5
}
